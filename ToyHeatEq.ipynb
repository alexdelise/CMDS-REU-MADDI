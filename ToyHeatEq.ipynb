{
 "cells": [
  {
   "cell_type": "code",
   "execution_count": 62,
   "id": "bf557f27",
   "metadata": {},
   "outputs": [
    {
     "name": "stdout",
     "output_type": "stream",
     "text": [
      "Using device: cuda\n"
     ]
    }
   ],
   "source": [
    "import math\n",
    "import torch\n",
    "from torch import nn, optim\n",
    "from torch.utils.data import DataLoader\n",
    "import matplotlib.pyplot as plt\n",
    "import numpy as np\n",
    "import torchvision.transforms.functional as TF\n",
    "\n",
    "device = torch.device(\"cuda\" if torch.cuda.is_available() else \"cpu\")\n",
    "print(f\"Using device: {device}\") "
   ]
  },
  {
   "cell_type": "markdown",
   "id": "27c1a7e7",
   "metadata": {},
   "source": [
    "### Data and Operator"
   ]
  },
  {
   "cell_type": "code",
   "execution_count": 63,
   "id": "34855994",
   "metadata": {},
   "outputs": [],
   "source": [
    "# Setup\n",
    "n = 500\n",
    "m = 500\n",
    "dim = m * n\n",
    "numSamples = 1000\n",
    "\n",
    "# Generate singular values\n",
    "X_lin = torch.linspace(-6, 6, steps=min(m, n), device=device)\n",
    "alpha = 15\n",
    "sigmoid_flipped = torch.exp(X_lin) / (1 + torch.exp(X_lin)) \n",
    "singular_values = 10 ** (-alpha * sigmoid_flipped)\n",
    "Sigma_X = torch.diag(singular_values)\n",
    "\n",
    "# Generate GammaX and L_X\n",
    "k = min(m, n)\n",
    "data = torch.randn(n, k, device=device)\n",
    "Q, _ = torch.linalg.qr(data)\n",
    "U = Q[:, :k]\n",
    "GammaX = U @ Sigma_X @ U.T\n",
    "Sigma_X_sqrt = torch.diag(torch.sqrt(torch.diag(Sigma_X)))\n",
    "L_X = U @ Sigma_X_sqrt\n",
    "\n",
    "# Generate noise\n",
    "noiseSigma = 0.05\n",
    "GammaE = noiseSigma**2 * torch.eye(m, device=device)\n",
    "L_E = torch.linalg.cholesky(GammaE)\n",
    "\n",
    "# Generate forward operator (must have square data)\n",
    "def heateq(n: int, kappa: float = 1.0, dx: float = 1.0, device=None) -> torch.Tensor:\n",
    "    device = device or torch.device('cpu')\n",
    "    e = torch.ones(n, device=device)\n",
    "    diagonals = [-2 * e, e[:-1], e[:-1]]\n",
    "    L = torch.diag(diagonals[0]) + torch.diag(diagonals[1], diagonal=1) + torch.diag(diagonals[2], diagonal=-1)\n",
    "    return kappa * L / dx**2\n",
    "F = heateq(n=m, kappa=1.0, dx=1.0, device=device)\n",
    "\n",
    "# Generate data\n",
    "mu_X = torch.zeros(n, 1, device=device)\n",
    "Z = torch.randn(k, numSamples, device=device)\n",
    "X = mu_X + L_X @ Z\n",
    "E = L_E @ torch.randn(m, numSamples, device=device)  # Updated line\n",
    "Y = F @ X + E\n",
    "GammaY = F @ GammaX @ F.T + GammaE\n",
    "L_Y = torch.linalg.cholesky(GammaY)\n"
   ]
  },
  {
   "cell_type": "markdown",
   "id": "5b42babd",
   "metadata": {},
   "source": [
    "### Theoretical Optimizers"
   ]
  },
  {
   "cell_type": "code",
   "execution_count": 64,
   "id": "21738597",
   "metadata": {},
   "outputs": [],
   "source": [
    "r = 25\n",
    "\n",
    "# Theoretical Forward Optimizer\n",
    "C_f = F @ L_X\n",
    "U_f, S_f, Vh_f = torch.linalg.svd(C_f)\n",
    "U_r_f, S_r_f, Vh_r_f = U_f[:, :r], torch.diag(S_f[:r]), Vh_f[:r, :]\n",
    "C_r_f = U_r_f @ S_r_f @ Vh_r_f\n",
    "M_r_f = C_r_f @ torch.linalg.pinv(L_X)\n",
    "\n",
    "# Theoretical Inverse Optimizer\n",
    "C_i = GammaX @ F.T @ torch.linalg.pinv(L_Y.T)\n",
    "U_i, S_i, Vh_i = torch.linalg.svd(C_i)\n",
    "U_r_i, S_r_i, Vh_r_i = U_i[:, :r], torch.diag(S_i[:r]), Vh_i[:r, :]\n",
    "C_r_i = U_r_i @ S_r_i @ Vh_r_i\n",
    "M_r_i = C_r_i @ torch.linalg.pinv(L_Y)"
   ]
  },
  {
   "cell_type": "markdown",
   "id": "1f240c17",
   "metadata": {},
   "source": [
    "### ED Training"
   ]
  },
  {
   "cell_type": "code",
   "execution_count": 65,
   "id": "dc926222",
   "metadata": {},
   "outputs": [],
   "source": [
    "import torch.nn as nn\n",
    "import torch.optim as optim\n",
    "\n",
    "class LinearAutoencoder(nn.Module):\n",
    "    def __init__(self, input_dim, bottleneck_dim):\n",
    "        super().__init__()\n",
    "        self.encoder = nn.Linear(input_dim, bottleneck_dim, bias=False)\n",
    "        self.decoder = nn.Linear(bottleneck_dim, input_dim, bias=False)\n",
    "\n",
    "    def forward(self, x):\n",
    "        return self.decoder(self.encoder(x))\n",
    "\n",
    "# Move training data to the correct device\n",
    "X_device = X.to(device)\n",
    "Y_device = Y.to(device)\n",
    "\n",
    "# Train forward autoencoder (X → Y)\n",
    "model_f = LinearAutoencoder(input_dim=m, bottleneck_dim=r).to(device)\n",
    "opt_f = optim.Adam(model_f.parameters(), lr=1e-3)\n",
    "loss_fn = nn.MSELoss()\n",
    "\n",
    "for _ in range(200):\n",
    "    model_f.train()\n",
    "    opt_f.zero_grad()\n",
    "    loss = loss_fn(model_f(X_device.T), Y_device.T)\n",
    "    loss.backward()\n",
    "    opt_f.step()\n",
    "\n",
    "with torch.no_grad():\n",
    "    A_learned_f = model_f.decoder.weight @ model_f.encoder.weight\n",
    "\n",
    "# Train inverse autoencoder (Y → X)\n",
    "model_i = LinearAutoencoder(input_dim=m, bottleneck_dim=r).to(device)\n",
    "opt_i = optim.Adam(model_i.parameters(), lr=1e-3)\n",
    "\n",
    "for _ in range(200):\n",
    "    model_i.train()\n",
    "    opt_i.zero_grad()\n",
    "    loss = loss_fn(model_i(Y_device.T), X_device.T)\n",
    "    loss.backward()\n",
    "    opt_i.step()\n",
    "\n",
    "with torch.no_grad():\n",
    "    A_learned_i = model_i.decoder.weight @ model_i.encoder.weight"
   ]
  },
  {
   "cell_type": "markdown",
   "id": "b322fcca",
   "metadata": {},
   "source": [
    "### Rank Sweep"
   ]
  },
  {
   "cell_type": "code",
   "execution_count": 66,
   "id": "11053316",
   "metadata": {},
   "outputs": [
    {
     "name": "stdout",
     "output_type": "stream",
     "text": [
      "On Rank 100\n",
      "On Rank 200\n",
      "On Rank 300\n",
      "On Rank 400\n"
     ]
    }
   ],
   "source": [
    "ranks = list(range(25, n - 24, 25))\n",
    "num_epochs = 200\n",
    "lr = 1e-3\n",
    "\n",
    "# Prepare results storage\n",
    "results = {\n",
    "    'forward': {'theory': [], 'learned': []},\n",
    "    'inverse': {'theory': [], 'learned': []}\n",
    "}\n",
    "\n",
    "# Precompute SVDs of theoretical operators\n",
    "# Forward operator SVD\n",
    "C_f = F @ L_X\n",
    "U_f, S_f, Vh_f = torch.linalg.svd(C_f)\n",
    "\n",
    "# Inverse operator SVD\n",
    "C_i = GammaX @ F.T @ torch.linalg.pinv(L_Y.T)\n",
    "U_i, S_i, Vh_i = torch.linalg.svd(C_i)\n",
    "\n",
    "# Loop over ranks\n",
    "for r in ranks:\n",
    "    if r % 100 == 0: print(f\"On Rank {r}\")\n",
    "    # --- Forward Case ---\n",
    "    # Truncate SVD\n",
    "    U_r_f = U_f[:, :r]\n",
    "    S_r_f = torch.diag(S_f[:r])\n",
    "    Vh_r_f = Vh_f[:r, :]\n",
    "    C_r_f = U_r_f @ S_r_f @ Vh_r_f\n",
    "    \n",
    "    # Optimal forward mapping\n",
    "    M_r_f = C_r_f @ torch.linalg.pinv(L_X)\n",
    "    diffs_opt_f = M_r_f @ X_device - Y_device\n",
    "    results['forward']['theory'].append(torch.norm(diffs_opt_f, dim=0).mean().item())\n",
    "\n",
    "    # Train forward autoencoder\n",
    "    ae_f = LinearAutoencoder(m, r).to(device)\n",
    "    opt_f = optim.Adam(ae_f.parameters(), lr=lr)\n",
    "    loss_fn = nn.MSELoss()\n",
    "    for _ in range(num_epochs):\n",
    "        opt_f.zero_grad()\n",
    "        out_f = ae_f(X_device.T)\n",
    "        loss_fn(out_f, Y_device.T).backward()\n",
    "        opt_f.step()\n",
    "    with torch.no_grad():\n",
    "        A_f = ae_f.decoder.weight @ ae_f.encoder.weight\n",
    "        diffs_learn_f = A_f @ X_device - Y_device\n",
    "        results['forward']['learned'].append(torch.norm(diffs_learn_f, dim=0).mean().item())\n",
    "\n",
    "    # --- Inverse Case ---\n",
    "    # Truncate SVD\n",
    "    U_r_i = U_i[:, :r]\n",
    "    S_r_i = torch.diag(S_i[:r])\n",
    "    Vh_r_i = Vh_i[:r, :]\n",
    "    C_r_i = U_r_i @ S_r_i @ Vh_r_i\n",
    "    \n",
    "    # Optimal inverse mapping\n",
    "    M_r_i = C_r_i @ torch.linalg.pinv(L_Y)\n",
    "    diffs_opt_i = M_r_i @ Y_device - X_device\n",
    "    results['inverse']['theory'].append(torch.norm(diffs_opt_i, dim=0).mean().item())\n",
    "\n",
    "    # Train inverse autoencoder\n",
    "    ae_i = LinearAutoencoder(m, r).to(device)\n",
    "    opt_i = optim.Adam(ae_i.parameters(), lr=lr)\n",
    "    for _ in range(num_epochs):\n",
    "        opt_i.zero_grad()\n",
    "        out_i = ae_i(Y_device.T)\n",
    "        loss_fn(out_i, X_device.T).backward()\n",
    "        opt_i.step()\n",
    "    with torch.no_grad():\n",
    "        A_i = ae_i.decoder.weight @ ae_i.encoder.weight\n",
    "        diffs_learn_i = A_i @ Y_device - X_device\n",
    "        results['inverse']['learned'].append(torch.norm(diffs_learn_i, dim=0).mean().item())"
   ]
  },
  {
   "cell_type": "markdown",
   "id": "4e87e277",
   "metadata": {},
   "source": [
    "### Plotting Results"
   ]
  },
  {
   "cell_type": "code",
   "execution_count": 67,
   "id": "7486a6f4",
   "metadata": {},
   "outputs": [
    {
     "data": {
      "image/png": "[encoded data removed]",
      "text/plain": [
       "<Figure size 780x470 with 1 Axes>"
      ]
     },
     "metadata": {},
     "output_type": "display_data"
    }
   ],
   "source": [
    "# pastel‑Everforest colours \n",
    "ef_pastel   = ['#a7c080', '#d3869b', \"#83c0c0\", '#e69875', '#a988b0', \"#b8912f\"]\n",
    "line_styles = {'theory': '-',  'learned': '--'}\n",
    "markers     = {'theory': 'o',  'learned': 's'}\n",
    "lw, ms      = 1.5, 4\n",
    "\n",
    "# combined forward/inverse plot\n",
    "plt.figure(figsize=(7.8, 4.7))\n",
    "modes = ['forward', 'inverse']\n",
    "short_label = {'theory': 'O', 'learned': 'L'}\n",
    "\n",
    "for i, mode in enumerate(modes):\n",
    "    col = ef_pastel[i]\n",
    "    for kind in ('theory', 'learned'):\n",
    "        plt.plot(\n",
    "            ranks,\n",
    "            results[mode][kind],\n",
    "            line_styles[kind],\n",
    "            marker=markers[kind],\n",
    "            color=col,\n",
    "            lw=lw,\n",
    "            ms=ms,\n",
    "            label=f\"{mode.capitalize()} ({short_label[kind]})\"\n",
    "        )\n",
    "\n",
    "plt.xlabel('Rank $r$')\n",
    "plt.ylabel(r'Average $\\ell_2$ Reconstruction Error')\n",
    "plt.yscale('log')\n",
    "plt.legend(ncol=2, fontsize='small')\n",
    "plt.tight_layout()\n",
    "# plt.savefig(\"synthetic_forward_inverse_ranksweep.png\")\n",
    "plt.show()"
   ]
  }
 ],
 "metadata": {
  "kernelspec": {
   "display_name": "Python 3",
   "language": "python",
   "name": "python3"
  },
  "language_info": {
   "codemirror_mode": {
    "name": "ipython",
    "version": 3
   },
   "file_extension": ".py",
   "mimetype": "text/x-python",
   "name": "python",
   "nbconvert_exporter": "python",
   "pygments_lexer": "ipython3",
   "version": "3.12.0"
  }
 },
 "nbformat": 4,
 "nbformat_minor": 5
}
