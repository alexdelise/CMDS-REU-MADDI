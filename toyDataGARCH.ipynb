{
 "cells": [
  {
   "cell_type": "code",
   "execution_count": 1,
   "id": "8eb2f644",
   "metadata": {},
   "outputs": [],
   "source": [
    "import numpy as np\n",
    "import pandas as pd"
   ]
  },
  {
   "cell_type": "code",
   "execution_count": null,
   "id": "d06ba973",
   "metadata": {},
   "outputs": [
    {
     "name": "stdout",
     "output_type": "stream",
     "text": [
      "GARCH-like toy dataset saved\n"
     ]
    }
   ],
   "source": [
    "# Reproducibility\n",
    "np.random.seed(42)\n",
    "\n",
    "# Hyperparams\n",
    "T = 2000  # time steps\n",
    "N = 10   # number of assets\n",
    "K = 3    # latent factors\n",
    "\n",
    "# GARCH parameters (stationary values)\n",
    "omega = 0.01\n",
    "alpha = 0.1\n",
    "beta = 0.85\n",
    "\n",
    "# Generate latent factors (T x K)\n",
    "F = np.random.randn(T, K)\n",
    "\n",
    "# Generate factor loadings (N x K)\n",
    "B = np.random.uniform(-1, 1, size=(N, K))\n",
    "\n",
    "# Base linear signal\n",
    "linear_signal = F @ B.T  # (T x N)\n",
    "\n",
    "# === GARCH(1,1) noise generator ===\n",
    "def garch_noise(T, N, omega=0.1, alpha=0.05, beta=0.9):\n",
    "    z = np.random.randn(T, N)\n",
    "    epsilon = np.zeros((T, N))\n",
    "    sigma2 = np.ones((T, N)) * omega / (1 - alpha - beta)  # unconditional variance init\n",
    "\n",
    "    for t in range(1, T):\n",
    "        sigma2[t] = omega + alpha * epsilon[t-1]**2 + beta * sigma2[t-1]\n",
    "        epsilon[t] = z[t] * np.sqrt(sigma2[t])\n",
    "    \n",
    "    return epsilon\n",
    "\n",
    "# Generate GARCH noise\n",
    "epsilon = garch_noise(T, N)\n",
    "\n",
    "# Combine linear signal + GARCH noise\n",
    "X = linear_signal + epsilon\n",
    "\n",
    "# Normalize (z-score) each asset column\n",
    "#X_mean = X.mean(axis=0)\n",
    "#X_std = X.std(axis=0)\n",
    "#X_normalized = (X - X_mean) / X_std\n",
    "\n",
    "# Wrap in DataFrames\n",
    "X_df = pd.DataFrame(X, columns=[f\"Asset_{i+1}\" for i in range(N)])\n",
    "F_df = pd.DataFrame(F, columns=[f\"Factor_{j+1}\" for j in range(K)])\n",
    "B_df = pd.DataFrame(B, columns=[f\"Factor_{j+1}\" for j in range(K)])\n",
    "B_df.index = [f\"Asset_{i+1}\" for i in range(N)]\n",
    "\n",
    "# Save to CSVs\n",
    "X_df.to_csv(\"assetReturns_garch.csv\", index=False)\n",
    "F_df.to_csv(\"latentFactors_garch.csv\", index=False)\n",
    "B_df.to_csv(\"factorLoadings_garch.csv\")\n",
    "\n",
    "print(\"GARCH-like toy dataset saved\")"
   ]
  }
 ],
 "metadata": {
  "kernelspec": {
   "display_name": "base",
   "language": "python",
   "name": "python3"
  },
  "language_info": {
   "codemirror_mode": {
    "name": "ipython",
    "version": 3
   },
   "file_extension": ".py",
   "mimetype": "text/x-python",
   "name": "python",
   "nbconvert_exporter": "python",
   "pygments_lexer": "ipython3",
   "version": "3.12.7"
  }
 },
 "nbformat": 4,
 "nbformat_minor": 5
}
