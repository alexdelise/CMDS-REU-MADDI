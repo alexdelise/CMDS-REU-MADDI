{
 "cells": [
  {
   "cell_type": "code",
   "execution_count": 1,
   "id": "df1d7b2c",
   "metadata": {},
   "outputs": [],
   "source": [
    "\n",
    "# import stuff\n",
    "import torch\n",
    "import torch.nn as nn\n",
    "import torch.optim as optim\n",
    "from torchvision import datasets, transforms\n",
    "from torch.utils.data import DataLoader\n",
    "import matplotlib.pyplot as plt\n"
   ]
  },
  {
   "cell_type": "code",
   "execution_count": null,
   "id": "7fc1670c",
   "metadata": {},
   "outputs": [
    {
     "name": "stdout",
     "output_type": "stream",
     "text": [
      "Epoch [1/10], Loss: 0.0300\n",
      "Epoch [2/10], Loss: 0.0209\n",
      "Epoch [3/10], Loss: 0.0219\n",
      "Epoch [4/10], Loss: 0.0155\n",
      "Epoch [5/10], Loss: 0.0175\n",
      "Epoch [6/10], Loss: 0.0121\n",
      "Epoch [7/10], Loss: 0.0124\n",
      "Epoch [8/10], Loss: 0.0121\n",
      "Epoch [9/10], Loss: 0.0131\n",
      "Epoch [10/10], Loss: 0.0112\n"
     ]
    },
    {
     "data": {
      "image/png": "[encoded data removed]",
      "text/plain": [
       "<Figure size 1500x300 with 20 Axes>"
      ]
     },
     "metadata": {},
     "output_type": "display_data"
    }
   ],
   "source": [
    "# define linear autoencoder model \n",
    "class Autoencoder(nn.Module):\n",
    "    def __init__(self):\n",
    "        super(Autoencoder, self).__init__()\n",
    "        # encoder\n",
    "        self.encoder = nn.Sequential(\n",
    "            nn.Linear(28 * 28, 128),\n",
    "            nn.ReLU(),\n",
    "            nn.Linear(128, 64),\n",
    "            nn.ReLU(),\n",
    "            nn.Linear(64, 32),\n",
    "            nn.ReLU()\n",
    "        )\n",
    "        # decoder\n",
    "        self.decoder = nn.Sequential(\n",
    "            nn.Linear(32, 64),\n",
    "            nn.ReLU(),\n",
    "            nn.Linear(64, 128),\n",
    "            nn.ReLU(),\n",
    "            nn.Linear(128, 28 * 28),\n",
    "            nn.Sigmoid()\n",
    "        )\n",
    "\n",
    "    def forward(self, x):\n",
    "        encoded = self.encoder(x)\n",
    "        decoded = self.decoder(encoded)\n",
    "        return decoded\n",
    "\n",
    "\n",
    "# load mnist dataset \n",
    "transform = transforms.Compose([transforms.ToTensor(), transforms.Lambda(lambda x: x.view(-1))])\n",
    "train_dataset = datasets.MNIST(root='./data', train=True, transform=transform, download=True)\n",
    "test_dataset = datasets.MNIST(root='./data', train=False, transform=transform, download=True)\n",
    "\n",
    "train_loader = DataLoader(train_dataset, batch_size=64, shuffle=True)\n",
    "test_loader = DataLoader(test_dataset, batch_size=64, shuffle=False)\n",
    "\n",
    "# initialize the model, loss function, and optimizer\n",
    "model = Autoencoder()\n",
    "criterion = nn.MSELoss()\n",
    "optimizer = optim.Adam(model.parameters(), lr=0.001)\n",
    "\n",
    "# training \n",
    "num_epochs = 10\n",
    "for epoch in range(num_epochs):\n",
    "    for data, _ in train_loader:  \n",
    "        # forward pass\n",
    "        output = model(data)\n",
    "        loss = criterion(output, data)\n",
    "\n",
    "        # backward pass\n",
    "        optimizer.zero_grad()\n",
    "        loss.backward()\n",
    "        optimizer.step()\n",
    "\n",
    "    print(f\"Epoch [{epoch + 1}/{num_epochs}], Loss: {loss.item():.4f}\")\n",
    "\n",
    "# visualize original and reconstructed images\n",
    "def visualize_reconstruction(model, loader):\n",
    "    data, _ = next(iter(loader))\n",
    "    with torch.no_grad():\n",
    "        reconstructed = model(data)\n",
    "\n",
    "    # plot original vs reconstructed\n",
    "    fig, axes = plt.subplots(2, 10, figsize=(15, 3))\n",
    "    for i in range(10):\n",
    "        # original images\n",
    "        axes[0, i].imshow(data[i].view(28, 28).numpy(), cmap='gray')\n",
    "        axes[0, i].axis('off')\n",
    "\n",
    "        # reconstructed images\n",
    "        axes[1, i].imshow(reconstructed[i].view(28, 28).numpy(), cmap='gray')\n",
    "        axes[1, i].axis('off')\n",
    "\n",
    "    plt.show()\n",
    "\n",
    "# plot certain images \n",
    "visualize_reconstruction(model, test_loader)"
   ]
  }
 ],
 "metadata": {
  "kernelspec": {
   "display_name": "base",
   "language": "python",
   "name": "python3"
  },
  "language_info": {
   "codemirror_mode": {
    "name": "ipython",
    "version": 3
   },
   "file_extension": ".py",
   "mimetype": "text/x-python",
   "name": "python",
   "nbconvert_exporter": "python",
   "pygments_lexer": "ipython3",
   "version": "3.12.7"
  }
 },
 "nbformat": 4,
 "nbformat_minor": 5
}
